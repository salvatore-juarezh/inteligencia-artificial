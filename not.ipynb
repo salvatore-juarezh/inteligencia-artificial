{
  "nbformat": 4,
  "nbformat_minor": 0,
  "metadata": {
    "colab": {
      "provenance": []
    },
    "kernelspec": {
      "name": "python3",
      "display_name": "Python 3"
    },
    "language_info": {
      "name": "python"
    }
  },
  "cells": [
    {
      "cell_type": "code",
      "execution_count": 3,
      "metadata": {
        "colab": {
          "base_uri": "https://localhost:8080/"
        },
        "id": "r0txhfbs5ce6",
        "outputId": "641020c9-160d-43a9-eb96-ef7b9fd84822"
      },
      "outputs": [
        {
          "output_type": "stream",
          "name": "stdout",
          "text": [
            "Input: [0 0], Weighted Sum: 0\n",
            "Input: [0 1], Weighted Sum: -1\n",
            "Input: [1 0], Weighted Sum: 0\n",
            "Input: [1 1], Weighted Sum: -1\n",
            "Predictions: [1, 0, 1, 0]\n"
          ]
        }
      ],
      "source": [
        "#operador NOT\n",
        "import numpy as np\n",
        "# Entradas para la neurona. Zona de entrenamiento de neurona, podemos ver todas los posibles resultados que pueden salir (en este caso OR)\n",
        "X = np.array([\n",
        "    [0, 0],\n",
        "    [0, 1],\n",
        "    [1, 0],\n",
        "    [1, 1]\n",
        "])\n",
        "# Salidas. Se puede decir que es como un interruptor de luz. \"0\" se intrepretaria como apagado y \"1\" como encendido\n",
        "Y = np.array([0, 0, 0, 1])\n",
        "# Pesos para las entradas. tal como lo dice, el \"peso\" o fuerza que con la que estas prendiedo el interruptor. con el mismo peso dices que los dos tienen la misma fuerza para ensender. ahora se invierte el peso\n",
        "W = [0, -1]\n",
        "# Umbral para la función de activación. se podria decir, que es la intencidad que neceita para encender los interruptores de arriba. (necesita ser mayor o igual a 1 para encender) se disminuye el umbral\n",
        "umbral = 0\n",
        "\n",
        "#creacion de clase que toma los diferentes resultados de las entradas\n",
        "class McCullochPitts:\n",
        "    def __init__(self, weights, umbral):\n",
        "        \"\"\"\n",
        "            Constructor de la neurona MCP.\n",
        "            Guarda las variables\n",
        "            weights -> vector de pesos iniciales\n",
        "            umbral -> umbral para usar en la funcion de activación\n",
        "        \"\"\"\n",
        "        self.weights = weights\n",
        "        self.umbral = umbral\n",
        "\n",
        "    def predict(self, X):\n",
        "        \"\"\"\n",
        "            Calcula la salida de la neurona para cada fila de entradas X.\n",
        "        \"\"\"\n",
        "        # Lista donde se guardarán las salidas\n",
        "        predictions = []\n",
        "        # Recorremos cada fila de entradas\n",
        "        for i in range(X.shape[0]):\n",
        "            # Calculamos la suma ponderada: w1*x1 + w2*x2\n",
        "            weighted_sum = np.dot(self.weights, X[i])\n",
        "            # Mostramos en consola la entrada y la suma ponderada\n",
        "            print(f\"Input: {X[i]}, Weighted Sum: {weighted_sum}\")\n",
        "            # Comparación con el umbral determinar si la neurona se activa o no\n",
        "            if weighted_sum >= self.umbral:\n",
        "                predictions.append(1)\n",
        "            else:\n",
        "                predictions.append(0)\n",
        "        return predictions\n",
        "\n",
        "# Instanciamos la clase McCullochPitts\n",
        "mcp = McCullochPitts(W, umbral)\n",
        "# Calculamos las predicciones\n",
        "predictions = mcp.predict(X)\n",
        "# Mostramos el resultado final\n",
        "print(\"Predictions:\", predictions)\n",
        "##not: valor contrario de entrada\n"
      ]
    }
  ]
}